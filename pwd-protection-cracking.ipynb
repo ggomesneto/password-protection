{
 "cells": [
  {
   "cell_type": "markdown",
   "metadata": {},
   "source": [
    "### UNDERSTANDING PASSWORD PROTECTION AND CRACKING\n",
    "\n",
    "Everytime you register an account, the password you decided to use goes through some steps before being saved on the database. Those steps are responsible for protecting your account from being hacked. On this Notebook, I'll explain the process of protecting it and some methods used to crack it.\n"
   ]
  },
  {
   "cell_type": "markdown",
   "metadata": {},
   "source": [
    "### HASHING\n",
    "\n",
    "One of the worst ways of saving a password on the database is plain text. Anyone with bad intentions could simply get the password and access the accounts from the database. To prevent that, the passwords go through a **HASH FUNCTION**. Follow the example below:"
   ]
  },
  {
   "cell_type": "code",
   "execution_count": 25,
   "metadata": {},
   "outputs": [
    {
     "name": "stdout",
     "output_type": "stream",
     "text": [
      "-8866156935385158131\n"
     ]
    }
   ],
   "source": [
    "password_input = 'MyAwEsOmEpAsSwOrD'\n",
    "password = hash(password_input)\n",
    "print(password)"
   ]
  },
  {
   "cell_type": "markdown",
   "metadata": {},
   "source": [
    "Using the built-in hash function from Python, we can see that the output is way harder to figure it out than a simple plain text. **A hash function is considered a layer of security added to your password**.\n",
    "\n",
    "The good thing about hashing is that it is impossible to revert the hash back to the password, and it is impossible to find 'sense' on the hashes, since even the most similars passwords give completey different hashes"
   ]
  },
  {
   "cell_type": "code",
   "execution_count": 26,
   "metadata": {},
   "outputs": [
    {
     "name": "stdout",
     "output_type": "stream",
     "text": [
      "password123 has a hash of -5424465327534797983\n",
      "Password123 has a hash of 4315389960516702057\n"
     ]
    }
   ],
   "source": [
    "password2 = 'password123'\n",
    "password3 = 'Password123'\n",
    "print(f'{password2} has a hash of {hash(password2)}')\n",
    "print(f'{password3} has a hash of {hash(password3)}')"
   ]
  },
  {
   "cell_type": "markdown",
   "metadata": {},
   "source": [
    "The simplest method of password cracking, called **Brute Force**, checks every possible password combination against your hash, until it finds a method. Taking in consideration that a 10 digit password, with lower and upper letter, number and special character can have 94<sup>10</sup> unique combinations, this method can take years to find a result."
   ]
  },
  {
   "cell_type": "markdown",
   "metadata": {},
   "source": [
    "The problem with only hashing is that a specific password will always have the same hash output. With enough time, anyone can create a list of possible passwords, hash then, and compare the results with your password until a match occurs. **That's How Dictionary Attacks and Rainbow Tables work**"
   ]
  },
  {
   "cell_type": "code",
   "execution_count": 27,
   "metadata": {},
   "outputs": [
    {
     "name": "stdout",
     "output_type": "stream",
     "text": [
      "We found a match! your password is MyAwEsOmEpAsSwOrD\n"
     ]
    }
   ],
   "source": [
    "possible_passwords = ['password123','letmein','openthedoor', 'MyAwEsOmEpAsSwOrD']\n",
    "\n",
    "for possible_password in possible_passwords:\n",
    "    hashed = hash(possible_password)\n",
    "    if hashed == password:\n",
    "        print(f'We found a match! your password is {possible_password}')\n"
   ]
  },
  {
   "cell_type": "markdown",
   "metadata": {},
   "source": [
    "To prevent that, a random string is added to the password before it is hashed. This random string is called **SALT**.\n",
    "By adding this random string, even the same passwords will not have the same hashes. This prevents the use of lists to crack your password. Let's create a function to generate our salt, just for the sake of explanation, and also a function to put our salt and password together."
   ]
  },
  {
   "cell_type": "code",
   "execution_count": 31,
   "metadata": {},
   "outputs": [],
   "source": [
    "import random\n",
    "\n",
    "def getSalt():\n",
    "    salt = ''\n",
    "    salt_list = ['a','b','c','d','1','2','3','4']\n",
    "    for x in range(0,10):\n",
    "        salt = salt + salt_list[random.randrange(0,7)]\n",
    "    return salt\n",
    "\n",
    "def hash_with_salt(password):\n",
    "    salt = getSalt()\n",
    "    hashed_password = hash(password+salt)\n",
    "    return hashed_password\n",
    "\n"
   ]
  },
  {
   "cell_type": "markdown",
   "metadata": {},
   "source": [
    "Let's check the result:"
   ]
  },
  {
   "cell_type": "code",
   "execution_count": 29,
   "metadata": {},
   "outputs": [
    {
     "data": {
      "text/plain": [
       "-1098913288288582688"
      ]
     },
     "execution_count": 29,
     "metadata": {},
     "output_type": "execute_result"
    }
   ],
   "source": [
    "hash_with_salt(password_input)"
   ]
  },
  {
   "cell_type": "markdown",
   "metadata": {},
   "source": [
    "Now, if I run the same line of code, the result will be different:"
   ]
  },
  {
   "cell_type": "code",
   "execution_count": 30,
   "metadata": {},
   "outputs": [
    {
     "data": {
      "text/plain": [
       "8938975145748758614"
      ]
     },
     "execution_count": 30,
     "metadata": {},
     "output_type": "execute_result"
    }
   ],
   "source": [
    "hash_with_salt(password_input)"
   ]
  },
  {
   "cell_type": "markdown",
   "metadata": {},
   "source": [
    "Now the chances of having the same hash using the same password is minimal. That makes each password **unique**"
   ]
  },
  {
   "cell_type": "markdown",
   "metadata": {},
   "source": [
    "This is not even a scratch on the surface of all password cracking methods and protection methods. But it is important to understand what happens behind the scenes every time we register an account."
   ]
  }
 ],
 "metadata": {
  "kernelspec": {
   "display_name": "Python 3",
   "language": "python",
   "name": "python3"
  },
  "language_info": {
   "codemirror_mode": {
    "name": "ipython",
    "version": 3
   },
   "file_extension": ".py",
   "mimetype": "text/x-python",
   "name": "python",
   "nbconvert_exporter": "python",
   "pygments_lexer": "ipython3",
   "version": "3.8.2"
  }
 },
 "nbformat": 4,
 "nbformat_minor": 4
}
