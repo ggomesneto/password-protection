{
 "cells": [
  {
   "cell_type": "markdown",
   "metadata": {},
   "source": [
    "### UNDERSTANDING PASSWORD PROTECTION AND CRACKING\n",
    "\n",
    "Everytime you register an account, the password you decided to use goes through some steps before being saved on the database. Those steps are responsible for protecting your account from being hacked. On this Notebook, I'll explain the process of protecting it and some methods used to crack it.\n"
   ]
  },
  {
   "cell_type": "markdown",
   "metadata": {},
   "source": [
    "### HASHING\n",
    "\n",
    "One of the worst ways of saving a password on the database is plain text. Anyone with bad intentions could simply get the password and access the accounts from the database. "
   ]
  },
  {
   "cell_type": "code",
   "execution_count": 23,
   "metadata": {},
   "outputs": [],
   "source": [
    "username = 'JohnLennon'\n",
    "password = 'LetItBe'"
   ]
  },
  {
   "cell_type": "markdown",
   "metadata": {},
   "source": [
    "|  username |  JohnLennon |  \n",
    "|---|---| \n",
    "| password  |  LetItBe |\n"
   ]
  },
  {
   "cell_type": "markdown",
   "metadata": {},
   "source": [
    "To prevent that, the passwords go through a **HASH FUNCTION**. Follow the example below:"
   ]
  },
  {
   "cell_type": "code",
   "execution_count": 24,
   "metadata": {},
   "outputs": [
    {
     "name": "stdout",
     "output_type": "stream",
     "text": [
      "6989684075308663858\n"
     ]
    }
   ],
   "source": [
    "hashed = hash(password)\n",
    "print(hashed)"
   ]
  },
  {
   "cell_type": "markdown",
   "metadata": {},
   "source": [
    "|  username |  JohnLennon |  \n",
    "|---|---| \n",
    "| password  |  6989684075308663858 |\n"
   ]
  },
  {
   "cell_type": "markdown",
   "metadata": {},
   "source": [
    "Using the built-in hash function from Python, we can see that the output is way harder to figure it out than a simple plain text. **A hash function is considered a layer of security added to your password**.\n",
    "\n",
    "The good thing about hashing is that it is **impossible** to revert the hash back to the password, and it is impossible to find 'sense' on the hashes, since even the most similars passwords give completey different hashes"
   ]
  },
  {
   "cell_type": "code",
   "execution_count": 34,
   "metadata": {},
   "outputs": [
    {
     "name": "stdout",
     "output_type": "stream",
     "text": [
      "password123 has a hash of -7244937712914343059\n",
      "Password123 has a hash of 4729695999618331497\n"
     ]
    }
   ],
   "source": [
    "password2 = 'password123'\n",
    "password3 = 'Password123'\n",
    "print(f'{password2} has a hash of {hash(password2)}')\n",
    "print(f'{password3} has a hash of {hash(password3)}')"
   ]
  },
  {
   "cell_type": "markdown",
   "metadata": {},
   "source": [
    "### BRUTE FORCE ATTACKS\n",
    "\n",
    "The simplest method of password cracking, called **Brute Force**, checks every possible password combination against your hash, until it finds a match.\n",
    "\n",
    "let's take in consideration that a 10 digit password, with lower and upper letter, number and special character can have **94<sup>10</sup> unique combinations.** If your machine can hash 1000000 possible combinations per second, that would take:"
   ]
  },
  {
   "cell_type": "code",
   "execution_count": 26,
   "metadata": {},
   "outputs": [
    {
     "name": "stdout",
     "output_type": "stream",
     "text": [
      "1707937 years\n"
     ]
    }
   ],
   "source": [
    "possibilities = 94 ** 10\n",
    "\n",
    "hashes_per_second = 1000000\n",
    "\n",
    "seconds_in_a_year = 60*60*24*365\n",
    "\n",
    "time_to_break = (possibilities / hashes_per_second) / seconds_in_a_year\n",
    "print(str(int(time_to_break)) + ' years')"
   ]
  },
  {
   "cell_type": "markdown",
   "metadata": {},
   "source": [
    "As you see above, it would take centuries to break a password just by randomly trying different inputs. So, another methods were developed to find a shortcut for that."
   ]
  },
  {
   "cell_type": "markdown",
   "metadata": {},
   "source": [
    "### HASHING LIMITATIONS\n",
    "\n",
    "A limitation with hashing is that a specific password will always have the same hash output. "
   ]
  },
  {
   "cell_type": "code",
   "execution_count": 32,
   "metadata": {},
   "outputs": [
    {
     "name": "stdout",
     "output_type": "stream",
     "text": [
      "6989684075308663858\n",
      "6989684075308663858\n"
     ]
    }
   ],
   "source": [
    "hashed_2 = hash(password)\n",
    "print(hashed)\n",
    "print(hashed_2)"
   ]
  },
  {
   "cell_type": "markdown",
   "metadata": {},
   "source": [
    "With enough time, anyone can create a list of possible passwords, hash then, and compare the results with your password until a match occurs. **That's How Dictionary Attacks and Rainbow Tables work**"
   ]
  },
  {
   "cell_type": "markdown",
   "metadata": {},
   "source": [
    "### DICTIONARY ATTACKS - RAINBOW TABLES"
   ]
  },
  {
   "cell_type": "code",
   "execution_count": 31,
   "metadata": {},
   "outputs": [
    {
     "name": "stdout",
     "output_type": "stream",
     "text": [
      "We found a match! your password is LetItBe\n"
     ]
    }
   ],
   "source": [
    "possible_passwords = ['password123','letmein','openthedoor', 'LetItBe']\n",
    "\n",
    "for possible_password in possible_passwords:\n",
    "    possible_hashed = hash(possible_password)\n",
    "    if possible_hashed == hashed:\n",
    "        print(f'We found a match! your password is {possible_password}')\n"
   ]
  },
  {
   "cell_type": "markdown",
   "metadata": {},
   "source": [
    "To prevent that, a random string is added to the password before it is hashed. This random string is called **SALT or PEPPER**.\n"
   ]
  },
  {
   "cell_type": "markdown",
   "metadata": {},
   "source": [
    "## SALTING / PEPPER"
   ]
  },
  {
   "cell_type": "markdown",
   "metadata": {},
   "source": [
    "By adding this random string, even the same passwords will not have the same hashes. This **prevents the use of lists to crack your password.**"
   ]
  },
  {
   "cell_type": "markdown",
   "metadata": {},
   "source": [
    "Let's create a function to generate our salt, **just for the sake of explanation**, and also a function to put our salt and password together."
   ]
  },
  {
   "cell_type": "code",
   "execution_count": 49,
   "metadata": {},
   "outputs": [],
   "source": [
    "import random\n",
    "\n",
    "\n",
    "def getSalt():\n",
    "    charset = \"!\\\"#$%&'()*+,-./0123456789:;<=>?@ABCDEFGHIJKLMNOPQRSTUVWXYZ[\\]^_`abcdefghijklmnopqrstuvwxyz{|}~\"\n",
    "    \n",
    "    salt = ''\n",
    "    \n",
    "    random_len = random.randrange(5,15)\n",
    "    \n",
    "    for x in range(0,random_len):\n",
    "        salt = salt + charset[random.randrange(0,94)]\n",
    "    return salt\n",
    "\n",
    "def hash_with_salt(password):\n",
    "    salt = getSalt()\n",
    "    print(f\"the salt used was {salt}\")\n",
    "    hashed_password = hash(password+salt)\n",
    "    return hashed_password\n",
    "\n"
   ]
  },
  {
   "cell_type": "markdown",
   "metadata": {},
   "source": [
    "Let's check the result:"
   ]
  },
  {
   "cell_type": "code",
   "execution_count": 50,
   "metadata": {},
   "outputs": [
    {
     "name": "stdout",
     "output_type": "stream",
     "text": [
      "the salt used was 5%GR]hTA\n"
     ]
    },
    {
     "data": {
      "text/plain": [
       "-4323647285231926894"
      ]
     },
     "execution_count": 50,
     "metadata": {},
     "output_type": "execute_result"
    }
   ],
   "source": [
    "hash_with_salt(password)"
   ]
  },
  {
   "cell_type": "markdown",
   "metadata": {},
   "source": [
    "Now, if I run the same line of code, the result will be different:"
   ]
  },
  {
   "cell_type": "code",
   "execution_count": 51,
   "metadata": {},
   "outputs": [
    {
     "name": "stdout",
     "output_type": "stream",
     "text": [
      "the salt used was <W.m,[\\{v!OTX-\n"
     ]
    },
    {
     "data": {
      "text/plain": [
       "59103097397870121"
      ]
     },
     "execution_count": 51,
     "metadata": {},
     "output_type": "execute_result"
    }
   ],
   "source": [
    "hash_with_salt(password)"
   ]
  },
  {
   "cell_type": "markdown",
   "metadata": {},
   "source": [
    "The salt is saved together with the user's data on the database. Every time the user logs in, the salt is added to the inputed password, hashed and compared with the hash saved. "
   ]
  },
  {
   "cell_type": "code",
   "execution_count": 53,
   "metadata": {},
   "outputs": [
    {
     "name": "stdout",
     "output_type": "stream",
     "text": [
      "the salt used was )>(_H}54g\n",
      "-228914899963461721\n"
     ]
    }
   ],
   "source": [
    "protected_password = hash_with_salt(password)\n",
    "print(protected_password)"
   ]
  },
  {
   "cell_type": "markdown",
   "metadata": {},
   "source": [
    "|  username |  JohnLennon |  \n",
    "|---|---| \n",
    "| password  |  -228914899963461721 |\n",
    "| salt | )>(_H}54g |"
   ]
  },
  {
   "cell_type": "markdown",
   "metadata": {},
   "source": [
    "**PEPPERS** are also random strings of data, but differently from a SALT, it is not stored with the salt on the database. They have more requirements than a SALT, but ultimately its objective is also to transform each password into an **UNIQUE** one."
   ]
  },
  {
   "cell_type": "markdown",
   "metadata": {},
   "source": [
    "This is not even a scratch on the surface of all password cracking methods and protection methods. But it is important to understand what happens behind the scenes every time we register an account."
   ]
  },
  {
   "cell_type": "markdown",
   "metadata": {},
   "source": [
    "Want to know more? Here's some links:\n",
    "\n",
    "[Would you like some pepper on that hash?]( https://spycloud.com/would-you-like-pepper-on-that-hash/)\n",
    "\n",
    "[NIST password recommendations]( https://spycloud.com/new-nist-guidelines/)"
   ]
  },
  {
   "cell_type": "code",
   "execution_count": null,
   "metadata": {},
   "outputs": [],
   "source": []
  }
 ],
 "metadata": {
  "kernelspec": {
   "display_name": "Python 3",
   "language": "python",
   "name": "python3"
  },
  "language_info": {
   "codemirror_mode": {
    "name": "ipython",
    "version": 3
   },
   "file_extension": ".py",
   "mimetype": "text/x-python",
   "name": "python",
   "nbconvert_exporter": "python",
   "pygments_lexer": "ipython3",
   "version": "3.8.2"
  }
 },
 "nbformat": 4,
 "nbformat_minor": 4
}
